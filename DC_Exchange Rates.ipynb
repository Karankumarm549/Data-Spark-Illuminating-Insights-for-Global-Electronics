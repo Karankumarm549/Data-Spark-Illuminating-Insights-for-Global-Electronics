{
 "cells": [
  {
   "cell_type": "code",
   "execution_count": 1,
   "id": "b9c2e0ba-1c25-4f94-8365-cf561d4796cc",
   "metadata": {},
   "outputs": [],
   "source": [
    "import pandas as pd \n"
   ]
  },
  {
   "cell_type": "code",
   "execution_count": 2,
   "id": "c6a941b5-150d-475d-acc1-36f5a71b5fdb",
   "metadata": {},
   "outputs": [],
   "source": [
    "ER=pd.read_csv('Exchange_Rates.csv')"
   ]
  },
  {
   "cell_type": "code",
   "execution_count": 8,
   "id": "1e261df3-96e4-4e1b-89b8-c729d017dcc8",
   "metadata": {},
   "outputs": [
    {
     "data": {
      "text/html": [
       "<div>\n",
       "<style scoped>\n",
       "    .dataframe tbody tr th:only-of-type {\n",
       "        vertical-align: middle;\n",
       "    }\n",
       "\n",
       "    .dataframe tbody tr th {\n",
       "        vertical-align: top;\n",
       "    }\n",
       "\n",
       "    .dataframe thead th {\n",
       "        text-align: right;\n",
       "    }\n",
       "</style>\n",
       "<table border=\"1\" class=\"dataframe\">\n",
       "  <thead>\n",
       "    <tr style=\"text-align: right;\">\n",
       "      <th></th>\n",
       "      <th>Date</th>\n",
       "      <th>Currency</th>\n",
       "      <th>Exchange</th>\n",
       "    </tr>\n",
       "  </thead>\n",
       "  <tbody>\n",
       "    <tr>\n",
       "      <th>0</th>\n",
       "      <td>2015-01-01</td>\n",
       "      <td>USD</td>\n",
       "      <td>1.0000</td>\n",
       "    </tr>\n",
       "    <tr>\n",
       "      <th>1</th>\n",
       "      <td>2015-01-01</td>\n",
       "      <td>CAD</td>\n",
       "      <td>1.1583</td>\n",
       "    </tr>\n",
       "    <tr>\n",
       "      <th>2</th>\n",
       "      <td>2015-01-01</td>\n",
       "      <td>AUD</td>\n",
       "      <td>1.2214</td>\n",
       "    </tr>\n",
       "    <tr>\n",
       "      <th>3</th>\n",
       "      <td>2015-01-01</td>\n",
       "      <td>EUR</td>\n",
       "      <td>0.8237</td>\n",
       "    </tr>\n",
       "    <tr>\n",
       "      <th>4</th>\n",
       "      <td>2015-01-01</td>\n",
       "      <td>GBP</td>\n",
       "      <td>0.6415</td>\n",
       "    </tr>\n",
       "    <tr>\n",
       "      <th>...</th>\n",
       "      <td>...</td>\n",
       "      <td>...</td>\n",
       "      <td>...</td>\n",
       "    </tr>\n",
       "    <tr>\n",
       "      <th>11210</th>\n",
       "      <td>2021-02-20</td>\n",
       "      <td>USD</td>\n",
       "      <td>1.0000</td>\n",
       "    </tr>\n",
       "    <tr>\n",
       "      <th>11211</th>\n",
       "      <td>2021-02-20</td>\n",
       "      <td>CAD</td>\n",
       "      <td>1.2610</td>\n",
       "    </tr>\n",
       "    <tr>\n",
       "      <th>11212</th>\n",
       "      <td>2021-02-20</td>\n",
       "      <td>AUD</td>\n",
       "      <td>1.2723</td>\n",
       "    </tr>\n",
       "    <tr>\n",
       "      <th>11213</th>\n",
       "      <td>2021-02-20</td>\n",
       "      <td>EUR</td>\n",
       "      <td>0.8238</td>\n",
       "    </tr>\n",
       "    <tr>\n",
       "      <th>11214</th>\n",
       "      <td>2021-02-20</td>\n",
       "      <td>GBP</td>\n",
       "      <td>0.7126</td>\n",
       "    </tr>\n",
       "  </tbody>\n",
       "</table>\n",
       "<p>11215 rows × 3 columns</p>\n",
       "</div>"
      ],
      "text/plain": [
       "            Date Currency  Exchange\n",
       "0     2015-01-01      USD    1.0000\n",
       "1     2015-01-01      CAD    1.1583\n",
       "2     2015-01-01      AUD    1.2214\n",
       "3     2015-01-01      EUR    0.8237\n",
       "4     2015-01-01      GBP    0.6415\n",
       "...          ...      ...       ...\n",
       "11210 2021-02-20      USD    1.0000\n",
       "11211 2021-02-20      CAD    1.2610\n",
       "11212 2021-02-20      AUD    1.2723\n",
       "11213 2021-02-20      EUR    0.8238\n",
       "11214 2021-02-20      GBP    0.7126\n",
       "\n",
       "[11215 rows x 3 columns]"
      ]
     },
     "execution_count": 8,
     "metadata": {},
     "output_type": "execute_result"
    }
   ],
   "source": [
    "ER"
   ]
  },
  {
   "cell_type": "code",
   "execution_count": 9,
   "id": "ecbc9aec-cb58-4745-b5dc-78d18299c1cd",
   "metadata": {},
   "outputs": [
    {
     "name": "stdout",
     "output_type": "stream",
     "text": [
      "<class 'pandas.core.frame.DataFrame'>\n",
      "RangeIndex: 11215 entries, 0 to 11214\n",
      "Data columns (total 3 columns):\n",
      " #   Column    Non-Null Count  Dtype         \n",
      "---  ------    --------------  -----         \n",
      " 0   Date      11215 non-null  datetime64[ns]\n",
      " 1   Currency  11215 non-null  object        \n",
      " 2   Exchange  11215 non-null  float64       \n",
      "dtypes: datetime64[ns](1), float64(1), object(1)\n",
      "memory usage: 263.0+ KB\n"
     ]
    }
   ],
   "source": [
    "ER.info()"
   ]
  },
  {
   "cell_type": "code",
   "execution_count": 17,
   "id": "597d9f3a-95c1-484c-8a1f-c0dd0861bca0",
   "metadata": {},
   "outputs": [
    {
     "data": {
      "text/plain": [
       "Date        0\n",
       "Currency    0\n",
       "Exchange    0\n",
       "dtype: int64"
      ]
     },
     "execution_count": 17,
     "metadata": {},
     "output_type": "execute_result"
    }
   ],
   "source": [
    "ER.isnull().sum()"
   ]
  },
  {
   "cell_type": "code",
   "execution_count": 7,
   "id": "05cce3fd-9928-4fc6-932c-40225f68079e",
   "metadata": {},
   "outputs": [],
   "source": [
    "ER['Date']=pd.to_datetime(ER['Date'],errors='coerce')"
   ]
  },
  {
   "cell_type": "code",
   "execution_count": 11,
   "id": "21f0a949-8f97-4161-954a-cf43230ce4b7",
   "metadata": {},
   "outputs": [],
   "source": [
    "ER.to_csv('Exchange_Rates_C.csv',index=False)"
   ]
  },
  {
   "cell_type": "markdown",
   "id": "c1e4d4ee-ef18-4ce5-b7e7-7bae14c2ce6a",
   "metadata": {},
   "source": [
    "***SQL CONNECTION***"
   ]
  },
  {
   "cell_type": "code",
   "execution_count": 12,
   "id": "3cba943f-d163-4e1b-a1ac-f1ee136abc83",
   "metadata": {},
   "outputs": [],
   "source": [
    "import mysql.connector"
   ]
  },
  {
   "cell_type": "code",
   "execution_count": 13,
   "id": "b6614bcc-1007-4ec9-a81d-2ddcac07d4b6",
   "metadata": {},
   "outputs": [],
   "source": [
    "products = pd.read_csv('Exchange_Rates_C.csv')"
   ]
  },
  {
   "cell_type": "code",
   "execution_count": 14,
   "id": "82f8c152-d85f-4546-b32b-cabac9249e4d",
   "metadata": {},
   "outputs": [],
   "source": [
    "# Establish a connection to your MySQL database\n",
    "conn = mysql.connector.connect(\n",
    "    host='localhost',       \n",
    "    user='root',   \n",
    "    password='@Karan549', \n",
    "    database='dataspark' \n",
    ")\n"
   ]
  },
  {
   "cell_type": "code",
   "execution_count": 15,
   "id": "08e3d2f4-d1b9-4476-865e-dd51dc4104af",
   "metadata": {},
   "outputs": [],
   "source": [
    "# Create a cursor object\n",
    "cursor = conn.cursor()\n",
    "\n",
    "# Create the Products table if it doesn't exist\n",
    "cursor.execute(\"\"\"\n",
    "CREATE TABLE IF NOT EXISTS exchange_rates (\n",
    "    Date DATE,\n",
    "    Currency VARCHAR(10),\n",
    "    Exchange DECIMAL(10,4)\n",
    ");\n",
    "\"\"\")"
   ]
  },
  {
   "cell_type": "code",
   "execution_count": 18,
   "id": "1a506a1a-5570-4d79-96da-c91a381541e3",
   "metadata": {},
   "outputs": [
    {
     "name": "stdout",
     "output_type": "stream",
     "text": [
      "Data added to MySQL database successfully!\n"
     ]
    }
   ],
   "source": [
    "# Insert data \n",
    "for index, row in ER.iterrows():\n",
    "    cursor.execute(\"\"\"\n",
    "    INSERT INTO exchange_rates (Date,Currency,Exchange)\n",
    "    VALUES (%s, %s, %s)\n",
    "    \"\"\", tuple(row))\n",
    "\n",
    "# Commit the transaction\n",
    "conn.commit()\n",
    "\n",
    "# Close the connection\n",
    "cursor.close()\n",
    "conn.close()\n",
    "\n",
    "print(\"Data added to MySQL database successfully!\")"
   ]
  },
  {
   "cell_type": "code",
   "execution_count": null,
   "id": "555dabc5-dec9-470f-aa58-42bcd4b356c7",
   "metadata": {},
   "outputs": [],
   "source": []
  }
 ],
 "metadata": {
  "kernelspec": {
   "display_name": "Python (DSP)",
   "language": "python",
   "name": "dsp"
  },
  "language_info": {
   "codemirror_mode": {
    "name": "ipython",
    "version": 3
   },
   "file_extension": ".py",
   "mimetype": "text/x-python",
   "name": "python",
   "nbconvert_exporter": "python",
   "pygments_lexer": "ipython3",
   "version": "3.12.4"
  }
 },
 "nbformat": 4,
 "nbformat_minor": 5
}
